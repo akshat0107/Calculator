{
 "cells": [
  {
   "cell_type": "code",
   "execution_count": null,
   "id": "51f19bf7-e33c-4b05-ab1d-2d6402fa874b",
   "metadata": {},
   "outputs": [],
   "source": [
    "class Calculator:\n",
    "    def __init__(self,a,b):\n",
    "        self._a=a\n",
    "        self._b=b\n",
    "\n",
    "    def add(self):\n",
    "        return self._a+self._b\n",
    "\n",
    "    def subtract(self):\n",
    "        return self._a-self._b\n",
    "\n",
    "    def multiply(self):\n",
    "        return self._a*self._b\n",
    "\n",
    "    def divide(self):\n",
    "        if self._b==0:\n",
    "            raise ValueError(\"divide by zero\")\n",
    "        return self._a/self._b"
   ]
  }
 ],
 "metadata": {
  "kernelspec": {
   "display_name": "Python 3 (ipykernel)",
   "language": "python",
   "name": "python3"
  },
  "language_info": {
   "codemirror_mode": {
    "name": "ipython",
    "version": 3
   },
   "file_extension": ".py",
   "mimetype": "text/x-python",
   "name": "python",
   "nbconvert_exporter": "python",
   "pygments_lexer": "ipython3",
   "version": "3.13.2"
  }
 },
 "nbformat": 4,
 "nbformat_minor": 5
}
